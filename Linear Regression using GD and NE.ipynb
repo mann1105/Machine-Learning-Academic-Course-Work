{
 "cells": [
  {
   "cell_type": "code",
   "execution_count": 97,
   "id": "2a88ae39",
   "metadata": {},
   "outputs": [],
   "source": [
    "import numpy as np\n",
    "import sklearn\n",
    "from sklearn import metrics, datasets\n",
    "from sklearn.preprocessing import StandardScaler"
   ]
  },
  {
   "cell_type": "code",
   "execution_count": 98,
   "id": "4b63d028",
   "metadata": {},
   "outputs": [
    {
     "name": "stdout",
     "output_type": "stream",
     "text": [
      "(20640, 8)\n"
     ]
    }
   ],
   "source": [
    "X,y = datasets.fetch_california_housing(return_X_y=True)\n",
    "print(X.shape)"
   ]
  },
  {
   "cell_type": "code",
   "execution_count": 99,
   "id": "bc1b6294",
   "metadata": {},
   "outputs": [],
   "source": [
    "from sklearn.model_selection import train_test_split"
   ]
  },
  {
   "cell_type": "code",
   "execution_count": 108,
   "id": "bd7ae228",
   "metadata": {},
   "outputs": [],
   "source": [
    "X_train, X_test, y_train, y_test = train_test_split(X, y, test_size=0.2, random_state=101)"
   ]
  },
  {
   "cell_type": "code",
   "execution_count": 109,
   "id": "8ca760f0",
   "metadata": {},
   "outputs": [
    {
     "name": "stdout",
     "output_type": "stream",
     "text": [
      "(16512, 8)\n",
      "(4128, 8)\n"
     ]
    }
   ],
   "source": [
    "print(X_train.shape)\n",
    "\n",
    "print(X_test.shape)"
   ]
  },
  {
   "cell_type": "code",
   "execution_count": 110,
   "id": "f8a76a62",
   "metadata": {},
   "outputs": [],
   "source": [
    "X_train_temp = np.ones((X_train.shape[0], X_train.shape[1]+1))\n",
    "X_test_temp = np.ones((X_test.shape[0], X_test.shape[1]+1))\n",
    "\n",
    "X_train_temp[:,1:] = X_train\n",
    "X_test_temp[:,1:] = X_test"
   ]
  },
  {
   "cell_type": "code",
   "execution_count": 111,
   "id": "ee3ba4e8",
   "metadata": {},
   "outputs": [
    {
     "name": "stdout",
     "output_type": "stream",
     "text": [
      "(16512, 9)\n",
      "[[   1.            4.7269       48.         ...    2.55494505\n",
      "    34.19       -118.13      ]\n",
      " [   1.            2.2621       43.         ...    2.10892857\n",
      "    39.74       -121.84      ]\n",
      " [   1.            4.1685       20.         ...    2.37261146\n",
      "    38.8        -121.15      ]\n",
      " ...\n",
      " [   1.            6.1463        6.         ...    2.80651731\n",
      "    37.3        -121.76      ]\n",
      " [   1.            3.2813       36.         ...    2.58293839\n",
      "    37.35       -121.95      ]\n",
      " [   1.            2.6719       23.         ...    2.86021505\n",
      "    36.85       -121.53      ]]\n"
     ]
    }
   ],
   "source": [
    "print(X_train_temp.shape)\n",
    "print(X_train_temp)"
   ]
  },
  {
   "cell_type": "code",
   "execution_count": 112,
   "id": "450c3605",
   "metadata": {},
   "outputs": [],
   "source": [
    "scaler=StandardScaler()\n",
    "scaler.fit(X_train_temp[:,1:])\n",
    "X_train_temp[:,1:] = scaler.transform(X_train_temp[:,1:])\n",
    "X_test_temp[:,1:] = scaler.transform(X_test_temp[:,1:])"
   ]
  },
  {
   "cell_type": "markdown",
   "id": "d00eb0b0",
   "metadata": {},
   "source": [
    "# Gradient Descent"
   ]
  },
  {
   "cell_type": "code",
   "execution_count": 113,
   "id": "df887a9d",
   "metadata": {},
   "outputs": [],
   "source": [
    "theta = np.random.uniform(0,1,size = X_train_temp.shape[1])"
   ]
  },
  {
   "cell_type": "code",
   "execution_count": 114,
   "id": "72757fbf",
   "metadata": {},
   "outputs": [
    {
     "data": {
      "text/plain": [
       "array([0.2577798 , 0.28038308, 0.38809915, 0.3037192 , 0.56095458,\n",
       "       0.97283601, 0.84074906, 0.01269282, 0.93721484])"
      ]
     },
     "execution_count": 114,
     "metadata": {},
     "output_type": "execute_result"
    }
   ],
   "source": [
    "theta"
   ]
  },
  {
   "cell_type": "code",
   "execution_count": 115,
   "id": "72ee905d",
   "metadata": {},
   "outputs": [
    {
     "name": "stdout",
     "output_type": "stream",
     "text": [
      "[ 2.06597302  0.90167348  0.21050994 -0.25126661  0.21789775  0.02874362\n",
      " -0.05612343 -0.18725483 -0.15935509]\n"
     ]
    }
   ],
   "source": [
    "n_iter = 1000\n",
    "alpha = 0.01\n",
    "\n",
    "m = X_train_temp.shape[0]\n",
    "n = X_train_temp.shape[1]\n",
    "\n",
    "for i in range(n_iter):\n",
    "    update = np.zeros(n)\n",
    "    y_pred = np.dot(X_train_temp,theta)\n",
    "    error = y_pred - y_train\n",
    "    for j in range(n):\n",
    "        update[j] = np.sum(error*(X_train_temp.T)[j])\n",
    "        \n",
    "    theta = theta - (alpha*update)/m\n",
    "\n",
    "print(theta)"
   ]
  },
  {
   "cell_type": "code",
   "execution_count": 116,
   "id": "caa67d41",
   "metadata": {},
   "outputs": [
    {
     "name": "stdout",
     "output_type": "stream",
     "text": [
      "0.5721012421090079\n",
      "0.6193540654035855\n"
     ]
    }
   ],
   "source": [
    "predections = np.dot(X_test_temp,theta)\n",
    "print(metrics.mean_absolute_error(y_test, predections))\n",
    "print(metrics.mean_squared_error(y_test,predections))"
   ]
  },
  {
   "cell_type": "markdown",
   "id": "5d04e678",
   "metadata": {},
   "source": [
    "# Normal Equation"
   ]
  },
  {
   "cell_type": "code",
   "execution_count": 117,
   "id": "49aac920",
   "metadata": {},
   "outputs": [],
   "source": [
    "from numpy.linalg import inv,pinv,LinAlgError"
   ]
  },
  {
   "cell_type": "code",
   "execution_count": 119,
   "id": "88ce058d",
   "metadata": {},
   "outputs": [],
   "source": [
    "try:\n",
    "    XTXi = inv(np.dot(X_train_temp.T,X_train_temp))\n",
    "except:\n",
    "    XTXi = pinv(np.dot(X_train_temp.T,X_train_temp))\n",
    "\n",
    "theta = np.dot(XTXi,np.dot(X_train_temp.T,y_train))"
   ]
  },
  {
   "cell_type": "code",
   "execution_count": 123,
   "id": "14fe437d",
   "metadata": {},
   "outputs": [],
   "source": [
    "predictions = np.dot(theta, X_test_temp.T)"
   ]
  },
  {
   "cell_type": "code",
   "execution_count": 124,
   "id": "b5ee1553",
   "metadata": {},
   "outputs": [
    {
     "name": "stdout",
     "output_type": "stream",
     "text": [
      "0.5379335579317596\n",
      "0.5446775996844716\n"
     ]
    }
   ],
   "source": [
    "predections = np.dot(X_test_temp,theta)\n",
    "print(metrics.mean_absolute_error(y_test, predections))\n",
    "print(metrics.mean_squared_error(y_test,predections))"
   ]
  },
  {
   "cell_type": "code",
   "execution_count": null,
   "id": "4a92bf95",
   "metadata": {},
   "outputs": [],
   "source": []
  }
 ],
 "metadata": {
  "kernelspec": {
   "display_name": "Python 3 (ipykernel)",
   "language": "python",
   "name": "python3"
  },
  "language_info": {
   "codemirror_mode": {
    "name": "ipython",
    "version": 3
   },
   "file_extension": ".py",
   "mimetype": "text/x-python",
   "name": "python",
   "nbconvert_exporter": "python",
   "pygments_lexer": "ipython3",
   "version": "3.11.1"
  }
 },
 "nbformat": 4,
 "nbformat_minor": 5
}
