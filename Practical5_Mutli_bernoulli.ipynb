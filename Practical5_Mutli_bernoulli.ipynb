{
 "cells": [
  {
   "cell_type": "markdown",
   "metadata": {
    "id": "yVzRBwE3Hfpj"
   },
   "source": [
    "Tweets analysis using multinomial and bernoulli naive bayes"
   ]
  },
  {
   "cell_type": "code",
   "execution_count": 1,
   "metadata": {
    "id": "2h5Hk3_4F77E"
   },
   "outputs": [],
   "source": [
    "import pandas as pd\n",
    "import numpy as np"
   ]
  },
  {
   "cell_type": "code",
   "execution_count": 2,
   "metadata": {
    "colab": {
     "base_uri": "https://localhost:8080/"
    },
    "id": "hdVhjkmDF_9Q",
    "outputId": "78f79c3a-1d2d-4fb1-beff-174497c4685a"
   },
   "outputs": [
    {
     "name": "stdout",
     "output_type": "stream",
     "text": [
      "700\n",
      "300\n"
     ]
    }
   ],
   "source": [
    "train = pd.read_csv(\"train_df.csv\")\n",
    "test = pd.read_csv(\"test_df.csv\")\n",
    "\n",
    "print(train.shape[0])\n",
    "print(test.shape[0])"
   ]
  },
  {
   "cell_type": "code",
   "execution_count": 3,
   "metadata": {
    "colab": {
     "base_uri": "https://localhost:8080/",
     "height": 530
    },
    "id": "KdXQR5YQGYym",
    "outputId": "11e38621-8ac7-4a46-b796-2dacc0b82087"
   },
   "outputs": [
    {
     "name": "stdout",
     "output_type": "stream",
     "text": [
      "  labels                                             tweets\n",
      "0    pos  Now all @Apple has to do is get swype on the i...\n",
      "1    pos  @Apple will be adding more carrier support to ...\n",
      "2    pos  Hilarious @youtube video - guy does a duet wit...\n",
      "3    pos  @RIM you made it too easy for me to switch to ...\n",
      "4    pos  I just realized that the reason I got into twi...\n"
     ]
    },
    {
     "data": {
      "text/html": [
       "\n",
       "  <div id=\"df-5a87996e-ace0-42ef-bdee-bbae986647d8\" class=\"colab-df-container\">\n",
       "    <div>\n",
       "<style scoped>\n",
       "    .dataframe tbody tr th:only-of-type {\n",
       "        vertical-align: middle;\n",
       "    }\n",
       "\n",
       "    .dataframe tbody tr th {\n",
       "        vertical-align: top;\n",
       "    }\n",
       "\n",
       "    .dataframe thead th {\n",
       "        text-align: right;\n",
       "    }\n",
       "</style>\n",
       "<table border=\"1\" class=\"dataframe\">\n",
       "  <thead>\n",
       "    <tr style=\"text-align: right;\">\n",
       "      <th></th>\n",
       "      <th>labels</th>\n",
       "      <th>tweets</th>\n",
       "    </tr>\n",
       "  </thead>\n",
       "  <tbody>\n",
       "    <tr>\n",
       "      <th>0</th>\n",
       "      <td>pos</td>\n",
       "      <td>Now all @Apple has to do is get swype on the i...</td>\n",
       "    </tr>\n",
       "    <tr>\n",
       "      <th>1</th>\n",
       "      <td>pos</td>\n",
       "      <td>@Apple will be adding more carrier support to ...</td>\n",
       "    </tr>\n",
       "    <tr>\n",
       "      <th>2</th>\n",
       "      <td>pos</td>\n",
       "      <td>Hilarious @youtube video - guy does a duet wit...</td>\n",
       "    </tr>\n",
       "    <tr>\n",
       "      <th>3</th>\n",
       "      <td>pos</td>\n",
       "      <td>@RIM you made it too easy for me to switch to ...</td>\n",
       "    </tr>\n",
       "    <tr>\n",
       "      <th>4</th>\n",
       "      <td>pos</td>\n",
       "      <td>I just realized that the reason I got into twi...</td>\n",
       "    </tr>\n",
       "    <tr>\n",
       "      <th>...</th>\n",
       "      <td>...</td>\n",
       "      <td>...</td>\n",
       "    </tr>\n",
       "    <tr>\n",
       "      <th>695</th>\n",
       "      <td>neg</td>\n",
       "      <td>+1 RT @SHlFT: dear #google &amp; #samsung... learn...</td>\n",
       "    </tr>\n",
       "    <tr>\n",
       "      <th>696</th>\n",
       "      <td>neg</td>\n",
       "      <td>dear #google &amp; #samsung... learn some presenta...</td>\n",
       "    </tr>\n",
       "    <tr>\n",
       "      <th>697</th>\n",
       "      <td>neg</td>\n",
       "      <td>+1 RT @tah_med: the background is SO horrible ...</td>\n",
       "    </tr>\n",
       "    <tr>\n",
       "      <th>698</th>\n",
       "      <td>neg</td>\n",
       "      <td>WHERE THE HECK IS THE @ANDROID SOURCE CODE ?? ...</td>\n",
       "    </tr>\n",
       "    <tr>\n",
       "      <th>699</th>\n",
       "      <td>neg</td>\n",
       "      <td>Not greatly impressed with #Google and #Samsun...</td>\n",
       "    </tr>\n",
       "  </tbody>\n",
       "</table>\n",
       "<p>700 rows × 2 columns</p>\n",
       "</div>\n",
       "    <div class=\"colab-df-buttons\">\n",
       "\n",
       "  <div class=\"colab-df-container\">\n",
       "    <button class=\"colab-df-convert\" onclick=\"convertToInteractive('df-5a87996e-ace0-42ef-bdee-bbae986647d8')\"\n",
       "            title=\"Convert this dataframe to an interactive table.\"\n",
       "            style=\"display:none;\">\n",
       "\n",
       "  <svg xmlns=\"http://www.w3.org/2000/svg\" height=\"24px\" viewBox=\"0 -960 960 960\">\n",
       "    <path d=\"M120-120v-720h720v720H120Zm60-500h600v-160H180v160Zm220 220h160v-160H400v160Zm0 220h160v-160H400v160ZM180-400h160v-160H180v160Zm440 0h160v-160H620v160ZM180-180h160v-160H180v160Zm440 0h160v-160H620v160Z\"/>\n",
       "  </svg>\n",
       "    </button>\n",
       "\n",
       "  <style>\n",
       "    .colab-df-container {\n",
       "      display:flex;\n",
       "      gap: 12px;\n",
       "    }\n",
       "\n",
       "    .colab-df-convert {\n",
       "      background-color: #E8F0FE;\n",
       "      border: none;\n",
       "      border-radius: 50%;\n",
       "      cursor: pointer;\n",
       "      display: none;\n",
       "      fill: #1967D2;\n",
       "      height: 32px;\n",
       "      padding: 0 0 0 0;\n",
       "      width: 32px;\n",
       "    }\n",
       "\n",
       "    .colab-df-convert:hover {\n",
       "      background-color: #E2EBFA;\n",
       "      box-shadow: 0px 1px 2px rgba(60, 64, 67, 0.3), 0px 1px 3px 1px rgba(60, 64, 67, 0.15);\n",
       "      fill: #174EA6;\n",
       "    }\n",
       "\n",
       "    .colab-df-buttons div {\n",
       "      margin-bottom: 4px;\n",
       "    }\n",
       "\n",
       "    [theme=dark] .colab-df-convert {\n",
       "      background-color: #3B4455;\n",
       "      fill: #D2E3FC;\n",
       "    }\n",
       "\n",
       "    [theme=dark] .colab-df-convert:hover {\n",
       "      background-color: #434B5C;\n",
       "      box-shadow: 0px 1px 3px 1px rgba(0, 0, 0, 0.15);\n",
       "      filter: drop-shadow(0px 1px 2px rgba(0, 0, 0, 0.3));\n",
       "      fill: #FFFFFF;\n",
       "    }\n",
       "  </style>\n",
       "\n",
       "    <script>\n",
       "      const buttonEl =\n",
       "        document.querySelector('#df-5a87996e-ace0-42ef-bdee-bbae986647d8 button.colab-df-convert');\n",
       "      buttonEl.style.display =\n",
       "        google.colab.kernel.accessAllowed ? 'block' : 'none';\n",
       "\n",
       "      async function convertToInteractive(key) {\n",
       "        const element = document.querySelector('#df-5a87996e-ace0-42ef-bdee-bbae986647d8');\n",
       "        const dataTable =\n",
       "          await google.colab.kernel.invokeFunction('convertToInteractive',\n",
       "                                                    [key], {});\n",
       "        if (!dataTable) return;\n",
       "\n",
       "        const docLinkHtml = 'Like what you see? Visit the ' +\n",
       "          '<a target=\"_blank\" href=https://colab.research.google.com/notebooks/data_table.ipynb>data table notebook</a>'\n",
       "          + ' to learn more about interactive tables.';\n",
       "        element.innerHTML = '';\n",
       "        dataTable['output_type'] = 'display_data';\n",
       "        await google.colab.output.renderOutput(dataTable, element);\n",
       "        const docLink = document.createElement('div');\n",
       "        docLink.innerHTML = docLinkHtml;\n",
       "        element.appendChild(docLink);\n",
       "      }\n",
       "    </script>\n",
       "  </div>\n",
       "\n",
       "\n",
       "<div id=\"df-d6c8e6b6-2a1a-44a3-82e4-1757c26e0bf1\">\n",
       "  <button class=\"colab-df-quickchart\" onclick=\"quickchart('df-d6c8e6b6-2a1a-44a3-82e4-1757c26e0bf1')\"\n",
       "            title=\"Suggest charts.\"\n",
       "            style=\"display:none;\">\n",
       "\n",
       "<svg xmlns=\"http://www.w3.org/2000/svg\" height=\"24px\"viewBox=\"0 0 24 24\"\n",
       "     width=\"24px\">\n",
       "    <g>\n",
       "        <path d=\"M19 3H5c-1.1 0-2 .9-2 2v14c0 1.1.9 2 2 2h14c1.1 0 2-.9 2-2V5c0-1.1-.9-2-2-2zM9 17H7v-7h2v7zm4 0h-2V7h2v10zm4 0h-2v-4h2v4z\"/>\n",
       "    </g>\n",
       "</svg>\n",
       "  </button>\n",
       "\n",
       "<style>\n",
       "  .colab-df-quickchart {\n",
       "      --bg-color: #E8F0FE;\n",
       "      --fill-color: #1967D2;\n",
       "      --hover-bg-color: #E2EBFA;\n",
       "      --hover-fill-color: #174EA6;\n",
       "      --disabled-fill-color: #AAA;\n",
       "      --disabled-bg-color: #DDD;\n",
       "  }\n",
       "\n",
       "  [theme=dark] .colab-df-quickchart {\n",
       "      --bg-color: #3B4455;\n",
       "      --fill-color: #D2E3FC;\n",
       "      --hover-bg-color: #434B5C;\n",
       "      --hover-fill-color: #FFFFFF;\n",
       "      --disabled-bg-color: #3B4455;\n",
       "      --disabled-fill-color: #666;\n",
       "  }\n",
       "\n",
       "  .colab-df-quickchart {\n",
       "    background-color: var(--bg-color);\n",
       "    border: none;\n",
       "    border-radius: 50%;\n",
       "    cursor: pointer;\n",
       "    display: none;\n",
       "    fill: var(--fill-color);\n",
       "    height: 32px;\n",
       "    padding: 0;\n",
       "    width: 32px;\n",
       "  }\n",
       "\n",
       "  .colab-df-quickchart:hover {\n",
       "    background-color: var(--hover-bg-color);\n",
       "    box-shadow: 0 1px 2px rgba(60, 64, 67, 0.3), 0 1px 3px 1px rgba(60, 64, 67, 0.15);\n",
       "    fill: var(--button-hover-fill-color);\n",
       "  }\n",
       "\n",
       "  .colab-df-quickchart-complete:disabled,\n",
       "  .colab-df-quickchart-complete:disabled:hover {\n",
       "    background-color: var(--disabled-bg-color);\n",
       "    fill: var(--disabled-fill-color);\n",
       "    box-shadow: none;\n",
       "  }\n",
       "\n",
       "  .colab-df-spinner {\n",
       "    border: 2px solid var(--fill-color);\n",
       "    border-color: transparent;\n",
       "    border-bottom-color: var(--fill-color);\n",
       "    animation:\n",
       "      spin 1s steps(1) infinite;\n",
       "  }\n",
       "\n",
       "  @keyframes spin {\n",
       "    0% {\n",
       "      border-color: transparent;\n",
       "      border-bottom-color: var(--fill-color);\n",
       "      border-left-color: var(--fill-color);\n",
       "    }\n",
       "    20% {\n",
       "      border-color: transparent;\n",
       "      border-left-color: var(--fill-color);\n",
       "      border-top-color: var(--fill-color);\n",
       "    }\n",
       "    30% {\n",
       "      border-color: transparent;\n",
       "      border-left-color: var(--fill-color);\n",
       "      border-top-color: var(--fill-color);\n",
       "      border-right-color: var(--fill-color);\n",
       "    }\n",
       "    40% {\n",
       "      border-color: transparent;\n",
       "      border-right-color: var(--fill-color);\n",
       "      border-top-color: var(--fill-color);\n",
       "    }\n",
       "    60% {\n",
       "      border-color: transparent;\n",
       "      border-right-color: var(--fill-color);\n",
       "    }\n",
       "    80% {\n",
       "      border-color: transparent;\n",
       "      border-right-color: var(--fill-color);\n",
       "      border-bottom-color: var(--fill-color);\n",
       "    }\n",
       "    90% {\n",
       "      border-color: transparent;\n",
       "      border-bottom-color: var(--fill-color);\n",
       "    }\n",
       "  }\n",
       "</style>\n",
       "\n",
       "  <script>\n",
       "    async function quickchart(key) {\n",
       "      const quickchartButtonEl =\n",
       "        document.querySelector('#' + key + ' button');\n",
       "      quickchartButtonEl.disabled = true;  // To prevent multiple clicks.\n",
       "      quickchartButtonEl.classList.add('colab-df-spinner');\n",
       "      try {\n",
       "        const charts = await google.colab.kernel.invokeFunction(\n",
       "            'suggestCharts', [key], {});\n",
       "      } catch (error) {\n",
       "        console.error('Error during call to suggestCharts:', error);\n",
       "      }\n",
       "      quickchartButtonEl.classList.remove('colab-df-spinner');\n",
       "      quickchartButtonEl.classList.add('colab-df-quickchart-complete');\n",
       "    }\n",
       "    (() => {\n",
       "      let quickchartButtonEl =\n",
       "        document.querySelector('#df-d6c8e6b6-2a1a-44a3-82e4-1757c26e0bf1 button');\n",
       "      quickchartButtonEl.style.display =\n",
       "        google.colab.kernel.accessAllowed ? 'block' : 'none';\n",
       "    })();\n",
       "  </script>\n",
       "</div>\n",
       "    </div>\n",
       "  </div>\n"
      ],
      "text/plain": [
       "    labels                                             tweets\n",
       "0      pos  Now all @Apple has to do is get swype on the i...\n",
       "1      pos  @Apple will be adding more carrier support to ...\n",
       "2      pos  Hilarious @youtube video - guy does a duet wit...\n",
       "3      pos  @RIM you made it too easy for me to switch to ...\n",
       "4      pos  I just realized that the reason I got into twi...\n",
       "..     ...                                                ...\n",
       "695    neg  +1 RT @SHlFT: dear #google & #samsung... learn...\n",
       "696    neg  dear #google & #samsung... learn some presenta...\n",
       "697    neg  +1 RT @tah_med: the background is SO horrible ...\n",
       "698    neg  WHERE THE HECK IS THE @ANDROID SOURCE CODE ?? ...\n",
       "699    neg  Not greatly impressed with #Google and #Samsun...\n",
       "\n",
       "[700 rows x 2 columns]"
      ]
     },
     "execution_count": 3,
     "metadata": {},
     "output_type": "execute_result"
    }
   ],
   "source": [
    "print(train.head())\n",
    "train"
   ]
  },
  {
   "cell_type": "code",
   "execution_count": 4,
   "metadata": {
    "colab": {
     "base_uri": "https://localhost:8080/"
    },
    "id": "HQG1f_kdGaRC",
    "outputId": "66914205-088c-495e-9058-af0243213540"
   },
   "outputs": [
    {
     "name": "stdout",
     "output_type": "stream",
     "text": [
      "Now all @Apple has to do is get swype on the iphone and it will be crack. Iphone that is\n",
      "\n",
      "@Apple will be adding more carrier support to the iPhone 4S (just announced)\n",
      "\n",
      "Hilarious @youtube video - guy does a duet with @apple 's Siri. Pretty much sums up the love affair! http://t.co/8ExbnQjY\n",
      "\n",
      "@RIM you made it too easy for me to switch to @Apple iPhone. See ya!\n",
      "\n",
      "I just realized that the reason I got into twitter was ios5 thanks @apple\n",
      "\n",
      "I'm a current @Blackberry user, little bit disappointed with it! Should I move to @Android or @Apple @iphone\n",
      "\n",
      "The 16 strangest things Siri has said so far. I am SOOO glad that @Apple gave Siri a sense of humor! http://t.co/TWAeUDBp via @HappyPlace\n",
      "\n",
      "Great up close & personal event @Apple tonight in Regent St store!\n",
      "\n",
      "From which companies do you experience the best customer service aside from @zappos and @apple?\n",
      "\n",
      "Just apply for a job at @Apple, hope they call me lol\n",
      "\n"
     ]
    }
   ],
   "source": [
    "train['tweets'][0]\n",
    "\n",
    "for i in range(10):\n",
    "    print(train['tweets'][i])\n",
    "    print()"
   ]
  },
  {
   "cell_type": "code",
   "execution_count": 5,
   "metadata": {
    "colab": {
     "base_uri": "https://localhost:8080/"
    },
    "id": "14an7Mm-Gcbs",
    "outputId": "ef9ef29b-91d9-494f-caf6-1393c6977c95"
   },
   "outputs": [
    {
     "name": "stdout",
     "output_type": "stream",
     "text": [
      "now all @apple has to do is get swype on the iphone and it will be crack. iphone that is\n"
     ]
    }
   ],
   "source": [
    "sample1 = train['tweets'][0]\n",
    "# lowerize the text\n",
    "sample1 = sample1.lower()\n",
    "print(sample1)"
   ]
  },
  {
   "cell_type": "code",
   "execution_count": 6,
   "metadata": {
    "colab": {
     "base_uri": "https://localhost:8080/"
    },
    "id": "J0qvv0TAGif3",
    "outputId": "7d4dd466-368e-41eb-e2af-723b8e5a9825"
   },
   "outputs": [
    {
     "name": "stdout",
     "output_type": "stream",
     "text": [
      "Collecting tweet-preprocessor\n",
      "  Downloading tweet_preprocessor-0.6.0-py3-none-any.whl (27 kB)\n",
      "Installing collected packages: tweet-preprocessor\n",
      "Successfully installed tweet-preprocessor-0.6.0\n",
      "now all has to do is get swype on the iphone and it will be crack. iphone that is\n"
     ]
    }
   ],
   "source": [
    "!pip install tweet-preprocessor\n",
    "\n",
    "import preprocessor as p\n",
    "sample1 = p.clean(sample1)\n",
    "print(sample1)"
   ]
  },
  {
   "cell_type": "code",
   "execution_count": 7,
   "metadata": {
    "colab": {
     "base_uri": "https://localhost:8080/"
    },
    "id": "oXhtPc26Gk0J",
    "outputId": "4631e510-ad53-41e5-e7cc-dca62d4bcc9f"
   },
   "outputs": [
    {
     "name": "stdout",
     "output_type": "stream",
     "text": [
      "now all has to do is get swype on the iphone and it will be crack. iphone that is\n"
     ]
    }
   ],
   "source": [
    "import preprocessor as p\n",
    "sample1 = p.clean(sample1)\n",
    "print(sample1)"
   ]
  },
  {
   "cell_type": "code",
   "execution_count": 8,
   "metadata": {
    "id": "Iq2fFR7VGxCZ"
   },
   "outputs": [],
   "source": [
    "import nltk"
   ]
  },
  {
   "cell_type": "code",
   "execution_count": 12,
   "metadata": {
    "colab": {
     "base_uri": "https://localhost:8080/"
    },
    "id": "IPTP3fJYHBRm",
    "outputId": "f1272933-76e9-4b99-f30c-b4371078a1bb"
   },
   "outputs": [
    {
     "name": "stderr",
     "output_type": "stream",
     "text": [
      "[nltk_data] Error loading word_tokenize: Package 'word_tokenize' not\n",
      "[nltk_data]     found in index\n",
      "[nltk_data] Downloading package punkt to /root/nltk_data...\n",
      "[nltk_data]   Package punkt is already up-to-date!\n",
      "[nltk_data] Downloading package stopwords to /root/nltk_data...\n",
      "[nltk_data]   Unzipping corpora/stopwords.zip.\n"
     ]
    },
    {
     "data": {
      "text/plain": [
       "True"
      ]
     },
     "execution_count": 12,
     "metadata": {},
     "output_type": "execute_result"
    }
   ],
   "source": [
    "nltk.download('word_tokenize')\n",
    "nltk.download('punkt')\n",
    "nltk.download('stopwords')"
   ]
  },
  {
   "cell_type": "code",
   "execution_count": 13,
   "metadata": {
    "colab": {
     "base_uri": "https://localhost:8080/"
    },
    "id": "DJeNbCpeHFqK",
    "outputId": "e47bfdea-e023-4b4a-c26e-7530021c5718"
   },
   "outputs": [
    {
     "name": "stdout",
     "output_type": "stream",
     "text": [
      "['now', 'all', 'has', 'to', 'do', 'is', 'get', 'swype', 'on', 'the', 'iphone', 'and', 'it', 'will', 'be', 'crack', '.', 'iphone', 'that', 'is']\n"
     ]
    }
   ],
   "source": [
    "tokens = nltk.word_tokenize(sample1)\n",
    "print(tokens)"
   ]
  },
  {
   "cell_type": "code",
   "execution_count": 14,
   "metadata": {
    "colab": {
     "base_uri": "https://localhost:8080/"
    },
    "id": "WSfHEJcTHJ1e",
    "outputId": "4db3c7d9-3a8b-4c18-8f31-6305fda06004"
   },
   "outputs": [
    {
     "name": "stdout",
     "output_type": "stream",
     "text": [
      "The size of stopwords list: 179\n",
      "English StopWords::\n",
      " {'with', 'why', 'being', 't', 'are', 'such', 'at', 'down', \"you're\", 'most', 'll', 'off', 'or', \"you'd\", 'himself', 'yourselves', 'from', 'me', 'each', 'too', 'herself', 'their', 'above', \"isn't\", 'out', \"needn't\", 'about', 'under', 'if', 'but', 'until', 'then', 'themselves', 'only', 'wasn', 'he', 're', 'did', 'while', 'weren', 'again', 'so', 'further', 's', 'once', 'won', 'ourselves', 'shouldn', 'for', 'they', \"you'll\", 'no', 'you', 'below', 'any', 'through', 'will', \"you've\", 'your', 'an', 'by', 'up', 'which', 'couldn', \"mustn't\", 'her', 'does', 'be', 'to', 'mightn', 'should', \"haven't\", 'some', 'hasn', 'and', 'haven', \"weren't\", 'very', 'mustn', 'she', 'where', 'hadn', 'of', 'his', 'have', 'more', 'same', 'against', 'd', 'when', 'do', 'am', 'how', 'nor', 'own', 'not', 'aren', 'having', 'during', 'doesn', 'don', \"won't\", 'ma', 'myself', 'just', 'who', 'shan', 'our', 'theirs', 'itself', 'yours', 'before', 'yourself', 'all', 'y', 'on', 'has', 'in', \"shouldn't\", 'it', 'hers', \"that'll\", \"should've\", \"shan't\", 'here', 'that', 'these', 'whom', \"hadn't\", 'was', 'o', 'needn', 'what', 'those', 'doing', 'this', 'after', \"don't\", 'because', 'other', 'been', 'isn', 'is', 've', 'wouldn', 'can', 'into', 'its', 'them', 'both', 'the', 'than', 'him', 'now', 'over', 'didn', 'm', 'few', \"she's\", \"hasn't\", \"wasn't\", 'ain', 'as', \"wouldn't\", 'there', 'we', \"it's\", 'i', \"didn't\", 'ours', \"doesn't\", \"aren't\", 'were', \"mightn't\", 'between', 'my', 'had', 'a', \"couldn't\"}\n"
     ]
    }
   ],
   "source": [
    "from nltk.corpus import stopwords\n",
    "\n",
    "stop_words = set(stopwords.words('english'))\n",
    "print(\"The size of stopwords list:\", len(stop_words))\n",
    "print(\"English StopWords::\\n\",stop_words)"
   ]
  },
  {
   "cell_type": "code",
   "execution_count": 15,
   "metadata": {
    "colab": {
     "base_uri": "https://localhost:8080/"
    },
    "id": "JbdmKKLJHihq",
    "outputId": "2e498b2d-467a-4eeb-ae72-81f24e2e14e7"
   },
   "outputs": [
    {
     "name": "stdout",
     "output_type": "stream",
     "text": [
      "sample:  now all has to do is get swype on the iphone and it will be crack. iphone that is\n",
      "CLEANED:    get swype iphone crack . iphone\n"
     ]
    }
   ],
   "source": [
    "print(\"sample: \",sample1)\n",
    "tokens = nltk.word_tokenize(sample1)\n",
    "\n",
    "stop_words = set(stopwords.words('english'))\n",
    "\n",
    "new_tokens = []\n",
    "for token in tokens:\n",
    "  if token not in stop_words:\n",
    "    new_tokens.append(token)\n",
    "\n",
    "sample1 = \" \".join(new_tokens)\n",
    "print(\"CLEANED:   \",\" \".join(new_tokens))"
   ]
  },
  {
   "cell_type": "code",
   "execution_count": 16,
   "metadata": {
    "colab": {
     "base_uri": "https://localhost:8080/"
    },
    "id": "8nSU6RyaIeQZ",
    "outputId": "759bda6f-390c-453f-ae24-10507e6e2789"
   },
   "outputs": [
    {
     "name": "stdout",
     "output_type": "stream",
     "text": [
      "sample:  get swype iphone crack . iphone\n",
      "STRIPPED:: get swype iphone crack  iphone\n"
     ]
    }
   ],
   "source": [
    "import string\n",
    "print(\"sample: \",sample1)\n",
    "\n",
    "table = str.maketrans('','',string.punctuation)# first two are empty strings\n",
    "tokens = nltk.word_tokenize(sample1)\n",
    "\n",
    "stripped = [token.translate(table) for token in tokens]\n",
    "stripted = ' '.join(stripped)\n",
    "print(\"STRIPPED::\",stripted)\n",
    "\n",
    "#str.maketrans()"
   ]
  },
  {
   "cell_type": "code",
   "execution_count": 17,
   "metadata": {
    "id": "uxOL-VYfZLxg"
   },
   "outputs": [],
   "source": [
    "from nltk.stem import PorterStemmer\n",
    "\n",
    "stemmer = PorterStemmer()"
   ]
  },
  {
   "cell_type": "code",
   "execution_count": 18,
   "metadata": {
    "colab": {
     "base_uri": "https://localhost:8080/"
    },
    "id": "jR5iYykJBazt",
    "outputId": "261d6b3d-4ea1-4b89-dcff-f18a32bea0da"
   },
   "outputs": [
    {
     "name": "stdout",
     "output_type": "stream",
     "text": [
      "tokens before stemming:: ['get', 'swype', 'iphone', 'crack', '.', 'iphone']\n",
      "tokens after stemming:: ['get', 'swype', 'iphon', 'crack', '.', 'iphon']\n"
     ]
    }
   ],
   "source": [
    "tokens = nltk.word_tokenize(sample1)\n",
    "print(\"tokens before stemming::\", tokens)\n",
    "\n",
    "stem = [stemmer.stem(token) for token in tokens]\n",
    "print(\"tokens after stemming::\", stem)"
   ]
  },
  {
   "cell_type": "code",
   "execution_count": null,
   "metadata": {
    "id": "bHdJ1RimBsQh"
   },
   "outputs": [],
   "source": []
  },
  {
   "cell_type": "code",
   "execution_count": null,
   "metadata": {
    "id": "XUJsjAY4B2xb"
   },
   "outputs": [],
   "source": []
  },
  {
   "cell_type": "markdown",
   "metadata": {
    "id": "RDv1reEIB3Tx"
   },
   "source": [
    "for all tweets"
   ]
  },
  {
   "cell_type": "code",
   "execution_count": 19,
   "metadata": {
    "id": "JQgEmj4qB5Sb"
   },
   "outputs": [],
   "source": [
    "import preprocessor as p\n",
    "from nltk.corpus import stopwords\n",
    "import nltk\n",
    "import string\n",
    "from nltk.stem import PorterStemmer\n",
    "\n",
    "stemmer = PorterStemmer()\n",
    "stop_words = set(stopwords.words('english'))\n",
    "table = str.maketrans('', '', string.punctuation)\n",
    "\n",
    "def preprocessing(tweet):\n",
    "    tweet = tweet.lower()\n",
    "\n",
    "    tweet = p.clean(tweet)\n",
    "\n",
    "    tokens = nltk.word_tokenize(tweet)\n",
    "\n",
    "    tokens = [ token.translate(table) for token in tokens ]\n",
    "\n",
    "    tokens = [ token.translate(table) for token in tokens]\n",
    "\n",
    "    tokens = [ token for token in tokens if token not in stop_words]\n",
    "\n",
    "    tokens = [stemmer.stem(token) for token in tokens]\n",
    "\n",
    "    return ' '.join(tokens)"
   ]
  },
  {
   "cell_type": "code",
   "execution_count": 24,
   "metadata": {
    "colab": {
     "base_uri": "https://localhost:8080/"
    },
    "id": "FXpADc3QB-zr",
    "outputId": "015bb0bd-1c1d-4ce6-c15e-63f15a31202a"
   },
   "outputs": [
    {
     "name": "stdout",
     "output_type": "stream",
     "text": [
      "0      Now all @Apple has to do is get swype on the i...\n",
      "1      @Apple will be adding more carrier support to ...\n",
      "2      Hilarious @youtube video - guy does a duet wit...\n",
      "3      @RIM you made it too easy for me to switch to ...\n",
      "4      I just realized that the reason I got into twi...\n",
      "                             ...                        \n",
      "695    +1 RT @SHlFT: dear #google & #samsung... learn...\n",
      "696    dear #google & #samsung... learn some presenta...\n",
      "697    +1 RT @tah_med: the background is SO horrible ...\n",
      "698    WHERE THE HECK IS THE @ANDROID SOURCE CODE ?? ...\n",
      "699    Not greatly impressed with #Google and #Samsun...\n",
      "Name: tweets, Length: 700, dtype: object\n"
     ]
    }
   ],
   "source": [
    "print(train['tweets'])"
   ]
  },
  {
   "cell_type": "code",
   "execution_count": 25,
   "metadata": {
    "colab": {
     "base_uri": "https://localhost:8080/"
    },
    "id": "0KeeUaTNCEUb",
    "outputId": "361b256d-c8ef-4803-816f-9a9f7559217c"
   },
   "outputs": [
    {
     "name": "stdout",
     "output_type": "stream",
     "text": [
      "get swype iphon crack  iphon\n",
      "ad carrier support iphon  announc \n",
      "hilari video  guy duet siri  pretti much sum love affair \n",
      "made easi switch iphon  see ya \n",
      "realiz reason got twitter ios5 thank\n",
      "current user  littl bit disappoint  move\n",
      "strangest thing siri said far  sooo glad gave siri sens humor  via\n",
      "great close  person event tonight regent st store \n",
      "compani experi best custom servic asid \n",
      "appli job  hope call lol\n",
      "rt  lmao think onto someth magic  die    haha  siri suggest find whore h \n",
      "lmao think onto someth magic  die    haha  siri suggest find whore hide bodi lolol\n",
      "rt  regist develop  hope actual  help  greatli appreci \n",
      "wow  great deal refurb  first gen  model  rt  appl offer great deal refurbish stgen ipad\n",
      "regist develop  hope actual  help  greatli appreci \n",
      " current learn mandarin upcom trip hong kong  got ta hand iphon  uber use flashcard app\n",
      "come dark side  hey  send free iphon  publicli ceremoni burn \n",
      "hey  send free iphon  version   publicli ceremoni burn \n",
      "thank find mac  locat wipe stolen air \n",
      "thank covent garden replac macbook keyboardcrack wristpad lunch break today  warranti \n",
      "ipad replac bound playbook nfl  team\n",
      "eff amaz  \n",
      "amaz new io featur \n",
      "rt  one  featur educ app    websit   today  sweet \n",
      "one  featur educ app    websit   today  sweet \n",
      "want someth done right   go   useless day \n",
      "unexpect workshop yesterday got awesom amount info\n",
      "  rt question bro  rt  get di iphon evo \n",
      "rt  peopl bitch  think smartest phone ever happi   \n",
      "peopl bitch  think smartest phone ever happi  way go \n",
      "ceo point corpor mentor  signup tripl\n",
      "bu iphon thxx\n",
      "appstor well done  itun mobil devic  talk desktop app \n",
      "nytim  coach want see  bring ipad  set red red hut hut wish\n",
      " appl sell million iphon unit first weekend  steve job brillianc live ever \n",
      "like seem everyon run life raft wo nt enough everyon \n",
      "apolog\n",
      "download io prove popular user \n",
      "lmfao look argument siri  \n",
      "incred  million iphon ss day   better iphon\n",
      "save unwant os  help buy  seen light \n",
      "well fix batteri drain problem replac iphon  work like champ\n",
      "current order brand new macbook pro    bahhh  macbook year old  miss  time  cc  \n",
      "bless \n",
      "know dad  mom  brother girlfriend  thank\n",
      "well least store amaz call wait music \n",
      " replac glass  thank\n",
      "bad  sell million debut weekend  bloomberg  rt\n",
      "love new technolog iphon  mac air icloud unreal\n",
      "love new ios5 updat\n",
      "anoth mention appl store   rt get great custom servic store \n",
      "time go get iphon look forward stick man longer pay text  thank \n",
      "hey hate comput need wan na send free one \n",
      "thank  new gf  iphone4  great  everyth \n",
      "set flawless work like champ  cloud\n",
      "total email compani  alway get great servic store \n",
      "love new ios5 upgrad iphon \n",
      "nice tech support guy fix itouch\n",
      "get great custom servic store millenia mall \n",
      "faster ipad \n",
      "love imac even though nt seen hubbi day \n",
      "make switch  appl store \n",
      "thank incred peopl go beyond offer replac waterdamag macbook pro    wow \n",
      "new macbook sick\n",
      "play man  love camera  well done\n",
      "yeah  chang life  \n",
      "safari reader own worldwid web\n",
      "love servic  case crack x go hand case walk\n",
      " 2 \n",
      "said laid next year job last iphon iphone4  iphon  4g5  magic \n",
      "kind excit  way last class right go store  buy snow leopard lion\n",
      "use 5yr  disrupt lost gig thx servic im move\n",
      "appl sell million iphon day keep  well \n",
      "yessss  lovin iphon updat especi slide bar top screen good job \n",
      "million weekend  per second  mad      \n",
      " got  invest  macbook pro next year  time get sell gear\n",
      "like  \n",
      "sent grandma post card use thank\n",
      "put wash kind equival  blend   glad hear still aliv \n",
      "launder ari iphon finest moment  dri bag  organ rice day boot           \n",
      "bravo  \n",
      "god bless   bad ass system  love  gb \n",
      "twitter day smash iphon nice gave new one\n",
      "thank io email pop lock screen open unlock \n",
      "one word   rt iphon first weekend sale top four million   via \n",
      "good iphon well today  thank god \n",
      "rt  love ios5 easter egg  pull middl top bottom see pull  awesom littl featur \n",
      "love ios5 easter egg  pull middl top bottom see pull  awesom littl featur \n",
      "love easter egg  pull middl top bottom see pull  awesom littl featur \n",
      "updat io start use cloud servic  pretti bad ass gs still champ \n",
      "gone run  beauti morn  man love io \n",
      "simpli best \n",
      "must admit made happi camper  text tone  lol  ring tone  drake ver  text tone  nicki\n",
      "day305  thank great custom servic receiv today via phone cs  new phone way\n",
      "replac phone free\n",
      "love new ipod updat\n",
      "wife upgrad iphon  think siri alon worth upgrad  look forward continu enhanc siri \n",
      "rt thx thx x\n",
      "honor tonit  truli great loss worldh miss\n",
      "thx thx x\n",
      "love new thank\n",
      "love  much  thank \n",
      "iphon great\n",
      "card app notifi card sent arriv local post offic deliv today  sunday  truli \n",
      "love new i0s5 updat  think ca nt get better somehow simplifi life  rightit appl \n",
      "siri amaz\n",
      "need iphone4 siri \n",
      "meet  new iphon butler  click link amaz \n",
      "man store  whoop    \n",
      " use work pc  never ever  get feel  worst speaker ever   spoil  \n",
      "\n",
      "got new ios5 upgrad imessag  good luck surviv\n",
      "love  \n",
      "rt  right  iphon must   welcom club \n",
      "thank innov  exhibit  guy play facetim instead watch game sport bar \n",
      "boo hiss   wuhu         berri power technolog actual work  \n",
      "far best ipod first time iphon ever  good job guy\n",
      "thank steve store th av \n",
      "siri witchcraft  next  yr lead lost \n",
      "io sweet  notif  phone search cover mail  wifi sync  icloud backup integr twitter well done \n",
      "rt  anoth great jame stewart stori today ny time import architectur retail success  \n",
      "anoth great jame stewart stori today ny time import architectur retail success\n",
      " lt  3\n",
      "welcom twitter world  due thank guy \n",
      "impress servic geniu bar metro centr  power cabl replac free n book screen replac free  \n",
      "rt  nice guy store replac phone grati show hairlin crack screen  thank\n",
      "nice guy store replac phone grati show hairlin crack screen  thank\n",
      "iphon batteri last longer day  nt happen sinc edg iphon  nice job  \n",
      "would taken min write  thank u convert show grass greener \n",
      "rt  got new backsid eye phone  v impress\n",
      "got new backsid eye phone  v impress\n",
      "space amaz product inspir peopl unbeliev thing\n",
      "thank make ipad feel like new new io \n",
      "ibertaddigitaltv ipad briliant stevejob produck  present \n",
      "use awsom ipad  love  love macbook ipod  amaz  love\n",
      "io upgrad done  much better featur  featur requir\n",
      "new io updat best  ilovey\n",
      "final got iphon  thank  stupid  learn lesson \n",
      "absolut love iphon thank  steve \n",
      " invent product actual get brother call parent get go  amaz \n",
      "dammit  listen siri make want upgrad  well play \n",
      "creat new folder within photo album  final   thank  thorn side \n",
      "video card workstat die six month  long  hello \n",
      " u r realli make throw trash get iphon  upload issu \n",
      "updat submit  thank support \n",
      "awesom servic store pc  thank chri \n",
      "rt   thank fix \n",
      "crazi  photo crop best \n",
      " thank fix \n",
      "hell ye    got contact back   thank\n",
      "rt  fu  king love phone best thing ever   siri  best thing ever made\n",
      "chang life \n",
      "mad prop employe nt charg replac back plate iphon  made day \n",
      "actual  mous pretti sweet man \n",
      "amaz  siri voic recognit absolut step previou attempt  bravo\n",
      "final got iphon thank get time\n",
      "nice  thank\n",
      "good support fm kevin store biz custom ty \n",
      "download io  better expect \n",
      " siri amaz    love \n",
      "love love love io  \n",
      "took month decid  tonight chosen amazon s3 imag storag solut \n",
      "rt today day  ic  lt  3\n",
      "new nexu look good  ui feel bit confus guess android user ok   tri\n",
      "nice trivia game  help use search better\n",
      "nice trivia game  help use search better\n",
      "cant build websit  get websit \n",
      "ic look pretti good  quit sure worth number leap \n",
      "\n",
      "rt android ice cream sandwich googl nexu new avtar \n",
      "rt  excit day  ice cream sandwich day\n",
      "wow new beauti  total gon na boost googl market share smart phone market \n",
      "hahaha integr data usag manag  sucha brilliant way  sleek design  superb watch video lol\n",
      "fanci ice cream sandwich  wonder work htc desir \n",
      "googl ice cream sandwich  sound yummi  think  cream sandwich\n",
      "       \n",
      "excit day  ice cream sandwich day\n",
      "android ice cream sandwich googl nexu new avtar \n",
      "refer   look amaz  imo android miss  \n",
      "forget phone  nice ui  like scroll featur\n",
      "simpli amaz \n",
      "final unveil much await os ice cream sandwich  sure look good \n",
      "final   search log user http \n",
      "realli take debt look strategi  releas hour releas \n",
      "rt  man  fallen love galaxi nexu \n",
      "doubt    \n",
      " greader share  five reason googl win war photoshar  \n",
      "rt  dear  want galaxi nexu  pleas send email someth  know technolog\n",
      "rt  telegraph report biggest threat power user shift   \n",
      "sorri made look bad  king\n",
      "telegraph report biggest threat power user shift \n",
      "power user gone    telegraph \n",
      "impress much new android updat  good sign  readabl font  emphasi design  less nerdi \n",
      "video  wallet  see wow effect\n",
      "tweet someth cant rememb spell go straight\n",
      "dear  want galaxi nexu  pleas send email someth  know technolog\n",
      "avail nexu \n",
      "mayb effici way brows  fun  releas infinit digit bookcas\n",
      "difficult pass  consid social seo benefit googl vs facebook\n",
      "ice cream sandwich stop carrier bulli smartphon user\n",
      "agre  hangout   friggin  awesom \n",
      " ice cream sandwich stop carrier bulli smartphon user\n",
      "great\n",
      "next phone   \n",
      "googl earth help locat salmonella hotspot\n",
      "person act like know everi fuck thing bitch\n",
      "galaxi nexu  orbit laser  iphon  wooden stick\n",
      "want\n",
      "ice cream sandwich u r realli delici ditch iphon u sure  launch aka\n",
      "   lovin\n",
      " samsung googl close collabor push mobil experi forward  pleas  \n",
      "rt  final  power  volum  screenshot  root requir \n",
      "want new  android go fuck\n",
      "press confer\n",
      "get high school colleg  appreci\n",
      "iscream u scream v scream  job well done major game changer space\n",
      " alway think ahead\n",
      "like virtual bookcas thank share\n",
      "reveal  get whenev get new phone  keep \n",
      "ice cream sandwich featur closer look  roboto type face  pleasur  read\n",
      "fantast work superphon new  impress \n",
      " think work  probabl best compani work  oh\n",
      "love\n",
      "ca nt wait ice cream sandwich \n",
      "need hookup  stop teas want new\n",
      "well  new accompani phone  usual  neat  noth groundbreak\n",
      "devic frame gener updat galaxi nexu  screenshot got prettier\n",
      "mmm  rt  introduc ice cream sandwich  delici new version android \n",
      "excit new android featur  awesom\n",
      "went way beyond expect  ca nt wait get nexu play \n",
      "check video  introduc galaxi nexu  simpl  beauti  beyond smart\n",
      "cream insid  clean outsid  ice cream phone job \n",
      " great small busi  think  platform realli benefici featur  thought \n",
      "rt  love new present tool googl doc  particularli theme ad video via url \n",
      "brilliant webgl bookcas\n",
      "like wife  search thing complet sentenc \n",
      "ice cream  introduc galaxi nexu  simpl  beauti  beyond smart\n",
      " lt  3\n",
      "interest bookcas  rt  releas infinit digit bookcas\n",
      "bff rite \n",
      "finish faster way googl    \n",
      "good see final turn focu user experi \n",
      "ic look awesom  pleas let phone \n",
      "iphon almost  almost   ice cream sandwich ftw  \n",
      "rt  yeah got  need facebook \n",
      "go  accord  builtin osnexu line  smart move\n",
      "oh ye   android beam  alright  made right decis team  team \n",
      "add profil  webgl globe project  add  via\n",
      "thank android admit ugli  new font good start \n",
      "ice cream sandwich face unlock realli work \n",
      "readi ice cream sandwich  \n",
      "mmmm ice cream sandwich\n",
      "seen tast ice cream sandwich  want bite\n",
      "probabl best  yet   event live blog  nt switch \n",
      "rt    ice cream sandwich make smartphon oper system look outdat  wo \n",
      "instant photo share peopl app best ice cream sandwich  imo \n",
      "new android phone make look like cheap toy dollar store \n",
      "sweet ice cream sandwich rt googl android ice cream sandwich offici detail\n",
      "  rais hand want power phone   \n",
      "siri  devic replac  vs \n",
      "new googl nexu page live  \n",
      "excit android beam  face detect unlock android ic \n",
      "use  yet  essenti tool get compani andor first page googl  contact \n",
      "rt  thank samsung googl  crave ice cream sandwich \n",
      "introduc galaxi nexu  simpl  beauti  beyond smart\n",
      "glad adopt design philosophi aka show soooo much  polish wait \n",
      "thought android  excit play new featur \n",
      "regist galaxi nexu\n",
      "wow  rt  webgl infinit bookcas ui\n",
      "  perfect sandwich\n",
      "thank samsung googl  crave ice cream sandwich \n",
      "love googl releas android os ice cream sandwich  \n",
      "googl ic look awesom  ca nt wait til get port evo  face unlock   \n",
      "sick  good work team\n",
      "got ta say  googl got pretti catchi advertis android chrome \n",
      "want  wonder carri novemb  direct purchas \n",
      "realli wan na\n",
      "well event  time chang pant\n",
      "io user awesom  great job\n",
      "oh yeah want one realli great job\n",
      "rt  liter mind blown away     \n",
      "io user awesom  great job\n",
      "   perfect combin   lt  3\n",
      "love introduct googl galaxi nexu  ice cream sandwich  realli look forward new phone\n",
      "go  go  go ice cream sandwich develop  sdk r14 live \n",
      "  ice cream sandwich make smartphon oper system look outdat  wowww \n",
      "galaxi nexu   dream team \n",
      "yumyumyum  want ice cream sandwich \n",
      "soon  get readi parti \n",
      "rt  rais hand want power phone \n",
      "talk good look make hungri\n",
      "g nut new phone \n",
      "iphon user find nearest trash devic correct place \n",
      " press releas done  go back regular tweet interv want \n",
      "rais hand want power phone \n",
      "readi ice cream sandwich \n",
      "alright  well got ass kick face hard new googl phone  brilliant \n",
      "liter mind blown away     \n",
      "think  that delici piec sandwich ever  get real fast \n",
      "iphon user reaali feel sorri saw icecream sandwich today \n",
      "pretti big deal def ca nt wait get hand\n",
      "wait new phone   \n",
      "rt  dostupan sdk  wow respect \n",
      "dostupan sdk  wow respect \n",
      "omg sdk avail  \n",
      "new os make look like old bag phone  nice job \n",
      "call execut  sign   ca nt wait week\n",
      "android beam  share contact  articl  file  game  pretti cool\n",
      "slick beam capabl includ android  touch devic togeth select  beam  content transfer\n",
      "realli dig   android great polit declin call lol\n",
      "goodby bump \n",
      " guy taught design decent phone  much metro  good job guy \n",
      "peopl app look promis  usual good integr differ app make total new user experi \n",
      "posit note  advanc control data usag realli great idea\n",
      "total blow ishit away \n",
      "love ice cream sandwich\n",
      "full effect  watch live event \n",
      "great  live contact manag  quick contact card  add peopl directli toyour home screen 0\n",
      "done  sandwich\n",
      "new contact app build magazin style layout aggreg contact info multipl sourc  slick \n",
      "nexu prime look nice \n",
      "new galaxi nexu  video look awesom \n",
      "infinit spiral bookcas book look amaz  interest see head \n",
      "new galaxi nexu  app improv  inbuilt panoram pictur\n",
      "new icecream sandwich  take panorama pictur right outofthebox  sweet \n",
      "rt     gt   gt \n",
      "camera app panorama capabl \n",
      "want toy\n",
      "good god camera app icecream sandwich amaz  camera fast \n",
      "better galleri app includ android well \n",
      "shutter speed insan  wow  two thumb\n",
      "android final includ photo edit tool \n",
      "new galaxi nexu  os hardwar improv  camera zero shutter lag\n",
      "data usag featur look amaz use \n",
      "wow  fast camera galaxi nexu  faster n9 think\n",
      "rt   top three play nice  score    play nice  report  http \n",
      "new camera app along  zero delay  camera galaxi nexu nice \n",
      "unbeliev data usag info ice cream sandwich\n",
      "data usag ic  look like nt need watchdog g pro anymor  hah \n",
      "data usag featur look amaz ic \n",
      "icecream sandwich look good far \n",
      "favorit studi guid\n",
      "ice cream sandwich look awesom \n",
      "new galaxi nexu  os improv  data usag tool inbuilt\n",
      "icecream sandwich os nexu prime releas   live blog  \n",
      "love alway show retard person planet search stupid thing\n",
      "rt  arriv \n",
      "new calendar app pinch zoom capabl  far superior current one \n",
      "new galaxi nexu  app improv  gmail offlin search last day\n",
      "love sync bookmark phone \n",
      "rt  appar put mb cap sm new updat  mb storag tell inbox full  w \n",
      "rt  iphon r expens  went w htcgalaxi  custom loyalti wphone comp \n",
      " iphon r expens  went w htcgalaxi  custom loyalti wphone comp \n",
      "kill appl rip\n",
      "tune go iphon  iphon lone without  silli\n",
      "need hurri releas\n",
      "alway\n",
      "need exchang cord appl store wait geniu \n",
      "airdrop  immedi  declin request   everi time\n",
      "good articl fuck lion futur \n",
      "rt  yellowg  iphon user complain yellow tint screen\n",
      "yellowg  iphon user complain yellow tint screen\n",
      "one featur still miss sinc first show  contact pictur contact list  simpl yet major updat miss\n",
      "ask siri dream electr sleep  disappoint nt snippi answer  miss opportun\n",
      "surpris throw error alert author   author comput  button \n",
      "shhhh  evil sith lord may hear ha \n",
      "fuck die fuck blaze inferno \n",
      "oh   steve obvious noth iphoto  perfect opposit insan great   get fix  pleas \n",
      "omg fuck delet music dick\n",
      "itun go store   gt  authoris nt autoauthoris sign itun  grrrr \n",
      "serious  absolut of clue mean  author   \n",
      "boy  could make harder put purchas music cloud new macbook pro   must author comput \n",
      "shit  shit  shit  ios5 updat ate app  data media like said would  go take time rebuild \n",
      "   u tell nt least gb iphon la vega   give fuck break    \n",
      "love download  hour ipad wonki \n",
      "dear new air notbook sinc updat kill\n",
      "done profit lack custom servic  fuck   \n",
      "would great would send new phone \n",
      "thank ruin gs  turn phone utterli useless pile shit \n",
      "option replac iphon  sure want one duff iphon \n",
      "appar put mb cap sm new updat  mb storag tell inbox full  \n",
      "know almost week sinc paid itun match  would realli like use  eta fix \n",
      "remov shit \n",
      "iphon give hella hard time w ios5 updat\n",
      "   suck hello rt interest note  droid razr batteri nt remov \n",
      "ca nt send iphon preorder hr launch can send jackass want shoot blend em\n",
      "got ta say itouch iphon shuffl etc  sound qualiti aw  pain crap  downgrad sound qualiti wise\n",
      "upgrad slow phone much  stuck half time  uch  thank damag  suck\n",
      "think nt thorough job step x step upgrad move icloud  cost mightili \n",
      "hey ios5 iphon nt includ song compil album artist name \n",
      "send rcve txt apt pmthen exclaim  wait whole year phone   lmao\n",
      "total chao store regent street  like ethiopian feed station  ca nt believ co make cool shit \n",
      " made purchas  wait survey  hate go bc bad\n",
      "correct  best buy kudo chri alamo ranch sa txfix issu could nt resolv 2 day w   hero day \n",
      "ppl stand line hr get  newest  model sucker \n",
      "would kill put braill type bump earbud know bud r l dark \n",
      "wow crush dream \n",
      "rt  oh  fuck   alreadi      gt  iphon schedul summer launch  via\n",
      "oh  fuck   alreadi      gt  iphon schedul summer launch  via\n",
      "  wo nt wait thursday avail appoint geniu  tell shit luck \n",
      "wtf     new io nt allow get push notif newstand  siri keep yap fuck \n",
      "  messag icon includ ca nt use \n",
      "yea  preorder sorri like \n",
      "interest  requir reserv  \n",
      "iphon batteri crappi\n",
      "keyboard type\n",
      "nt icloud sync sticki  alway around  noth everi progress w   appl \n",
      " new  save version  function page absolut aw  interrupt  counterintuit piec crap world\n",
      "hate comput  that dollar drain \n",
      "iphon charg slowli     \n",
      "gm ipad1 slow wash better beta78 solv problem  give ipad2\n",
      "wish could pick month  day  year set new calendar item iphon  nt new io fix yet  \n",
      "itun worst program ever  great phone  make aw softwar \n",
      "one would think voic recognit tech support line would work littl better \n",
      " 319 repair ipad  appl lost  700 year  android come \n",
      "proper consolid  proper sync  stop lose purchas item  checkbox think \n",
      "desktop app wack though\n",
      "made reserv yet still wait line  humpt  oh  appl store w other \n",
      "frustrat bought new macbook pro find doesnt ship media \n",
      "dear  turn awesom featur enabl  data plan ca nt handl  mb data\n",
      "far better\n",
      "problem io prevent audio app audio function oper properli  keep lose sound \n",
      "one thing hater finish fast\n",
      "hey  stop send automaticallydepreciatealliphonesolderthanthe4 signal  die rapidli processorwis \n",
      "thing bad new camera two compact flash card  one sd  sd goe comput  damn \n",
      "wtf page new term  condit u updat ur app itun store  u realli think read em  realli   \n",
      "fuck u\n",
      "oh prolli ganna late work bc screw phone alarm\n",
      "fuck dose phone decid ganna freez everi time tri updat fuck sick\n",
      " u need text wait u wont get cuz fuck everi time\n",
      "imessag nt show time messag sent  annoy\n",
      "like da fuck shit \n",
      "rt  wit chu    offici boycot    call curs next use wast \n",
      "damn   whatchu done phone  \n",
      "samsung seek iphon ban japan australia patent war intensifi injunct sought\n",
      " everi time io softwar updat ipad goe dead need total restor \n",
      "5 noth pain ass room music  photo  app  undo garbag  \n",
      "rt  hear  troubl   even turn bright  \n",
      "hear  troubl   even turn bright \n",
      "rememb evil  enter market\n",
      " second full charg day  piss\n",
      "rt  bs    u tell go certain time muh fuh close \n",
      "wit chu    offici boycot    call curs next use wast time \n",
      "ugh   your reserv page iphon work \n",
      "itun worst product  wors hockey puck mous  utterli pain use \n",
      "der icloud hate u  hope die  worst fuck invent world  fuck youuuuuuuuuuuu\n",
      "updat io lose everyth phone wont let sign itun account  thank\n",
      "suddenli lost address book iphon  someon use id  fuck \n",
      "oh  iphon overcapac huh    wo nt let great   \n",
      "issu updat itun window pc  realli compat  sent time talk care use  \n",
      "u guy gay\n",
      "restor iphon  still text  dear love  restrict sm  text \n",
      "none app work new io    \n",
      "seemingli endless loop call   investig miss \n",
      "terribl  hope get apolog \n",
      "phone pretti much ever sinc  realli annoy \n",
      "get busi w new phone  want buy stylu  made wait forev outsid  never\n",
      "pleas deliv daughter i4  drive nut\n",
      "givin  stupid reserv system day cant get reserv  never buy appl product  yup hate contract \n",
      "still word iphone4 preorder  best buy blame sprint  sprint blame  want honest answer \n",
      "hey  sm full messag complet shit  ye  annoy \n",
      "never poor custom servic  happen   appl store w other \n",
      "servic experi realli fuck slip  except cute  eyelash bat girli    appl store \n",
      "ipa hour jailbrok  shag itun wo nt letm restor sym    \n",
      " happen snatch siri could douchebag say  \n",
      "think make total depend network connect  siri   utter frustrat \n",
      "wow geniu bar reserv line ridic right   amus \n",
      "iphon       \n",
      "batteri life suck io\n",
      "appl updat seem render work machin incap open hdv video  thank  zero use product today \n",
      "commit cloud storag idisk rain soon idisk  plan new servic storag \n",
      "hey ca nt share remind list iphon  also ca nt login icloud webpag modifi share phone \n",
      "appar fuzzbal crash  congratul anoth incompat upgrad\n",
      "could lion pleas integr vertic space mission control  horizont busi make nauseou\n",
      "someon plz explain whhyy distribut 3 phone per day sprint store  realli \n",
      "gah  io open text messag pain slow  top restor attempt succeed  earli adopt get better \n",
      "dear  pdf epub file disappear ibook iphon post ios5 upgrad  hurt \n",
      " lie  batteri new iphone4 definit better   lt   lt  check set  time app usag io\n",
      "huge podcast fan  realli feel like drop ball one  via\n",
      "nt realli like siri voic  perhap get star war voic like\n",
      " realli hate deal brain dead peopl store  good product  custom servic suck  nz \n",
      "realli hate deal brain dead peopl store  good product  custom servic suck \n",
      "make photo album photo app io  ca nt password protect  um   fix  quickli \n",
      "anyon els see miss signal bar gs upgrad  cc\n",
      "rt  lie  batteri new iphone4 definit better \n",
      "want know custom think dont send updat  norepli  return address  invent anyway \n",
      "everi time tri voic control ipod touch send imessag  start play  knew  pink  still flawless\n",
      "studi work hold hurri fuck \n",
      "ok hindi keyboard someth cheer  support  miss indian languag  \n",
      "rt  warn  iphon app spontan loos data  might app fault  \n",
      "ah  yeah  option  hope figur  thx\n",
      " wait item copi  itun everyth copi goe    come  hell \n",
      "unhappi serviceproduct qualiti  wo nt buy \n",
      "lie  batteri new iphone4 definit better \n",
      " dear  got ta go chang way  lt  input type  number   gt  handl blue \n",
      "hold custom servic minut  wow  lt like \n",
      "anyon els stuck dupe calendarmailbatteri suck hell  lion disappoint\n",
      "inventor comput mous never made one complet piec fuck shit    \n",
      "kill  excit ios5 longer tragic batteri drain  geniu bar want replac batteri  realli \n",
      "st impress  disappoint w upgrad restor  lot app  folder miss much time went in2 org \n",
      "nt question rememb dissent \n",
      " multipl time siri  troubl connect network   siri need server  exercis  \n",
      "imessag still nt work \n",
      "rt  resolv network issu need renam great product sorri  els havin \n",
      "dear  got ta go chang way  lt  input type  number   gt  handl blue \n",
      "ugh  wtf bottleneck \n",
      "1 rt  pleas fix     ca nt connect network       \n",
      "pleas fix     ca nt connect network       \n",
      "resolv network issu need renam great product sorri  els issu \n",
      "chanc releas good headphon dont blast music outsid ear  quit obnoxi\n",
      " work due  network problem   serious  fix \n",
      "cloudi  tech  techi \n",
      "connect process command  fail right\n",
      "see  happen releas iphon crappi design old phone \n",
      " rt look like appropri project resourc need siri  reliabl\n",
      "look like appropri project resourc need siri  reliabl\n",
      "spoke rep phone  could hear tv blare bg  said   ca nt actual help u  direct u back web \n",
      "wrong siri today\n",
      "siri \n",
      "suspect time healthdeclin iphon perfectli iphon releas  batteri serious ail \n",
      "hold anoth half hour  phone ring one pick  stink \n",
      "ok softwar updat take waaaaay long \n",
      "would better inform custom properli migrat  mani complaint lead damag\n",
      "io rape batteri life  use phone lot sinc get\n",
      "hope small bug must fix  right appl  0 \n",
      "  realis realli piss custom base well look petti \n",
      " app updat origin folder  locat  pain \n",
      "domain fail  open hr late walk ppl  store empti need skin screen  repres custom servic fail\n",
      "chipset tear batteri life  cowork htc thunderbolt get hour life \n",
      "wish appl updat would stop tri ram itun throat  nt piss iphon\n",
      "run slower sinc updat \n",
      "search voic year old nexu one \n",
      " updat server time week  forc restor wthe new softwar  lost stuff  thank \n",
      "success stori iphon  ipad  phone appl min  ipad  wast time \n",
      "thank minut wait hold  half hour actual talk someon  tech decid send email fix phone\n",
      "upset inconvenienc iphon updat fail backup \n",
      "serious financ damn phone greedi bastard  santa  get jolli ass gear get us  white plz\n",
      "schedul busi spend unqual time recov iphon againth mo  mobil get mo  immobil  sync \n",
      "ponder io updat  sound difficulti  may hold  fix \n",
      "know issu dst alarm\n",
      "book geniu bar hour still ca nt serv  disappoint appl store sydney \n",
      "appar geniu train nt extend clock  servic  half hour late appoint could nt let know \n",
      "thank os updat succes brick ipod \n",
      "screw io  ca nt download crap  tire tri  get problem figur connect time\n",
      "wow  icloud mail  st io upgrad issu  realli hope nt without steve job \n",
      "nt guy test upgrad put  2 hr u guy wast time yesterday  thank \n",
      "go product   first freez  still frozen  wo nt turn   \n",
      "perpetu restor loop tri upgrad sux without steve\n",
      "nd geniu apptment run late nd day row nd dodgi ipod  make mega    hire staff \n",
      "took year figur properli syncron iphon  wow \n",
      "went th ave store told could wait hour get needless say back hotel relax \n",
      "overal fan iphon  howev  siri issu connect network\n",
      "terribl custom servic lo gato  pay  199 bad home button iphon   \n",
      "thank suck much  believ would sell someth onlin nt made\n",
      "major batteri drain issu sinc updat iphon io  anyon els \n",
      "dear pleas send mac book back sure repair done  thank \n",
      " iphone2 caus camera apperatur dilat problem  freez \n",
      " suburb word drop map pin state  pleas fix \n",
      "sorri  never  disappoint \n",
      "iphon siri nt work shit\n",
      "clarenc thoma must design new osx lion  toss decad workflow standard  bring back save \n",
      "yeah except ask receipt  take minut figur print  fix  \n",
      "rt  hey wan na fix fuck playlist order  piec shit\n",
      "bummer   ipad fantasi footbal app keep crash  sure app new io  two app run \n",
      "suck dick got ta restor ipad\n",
      "line stupid\n",
      "man  sux  io5 upgrad total \n",
      "dear contact  terribl  clean duplic hour magic reappear  fix \n",
      "much ask app incompat  \n",
      "piss whoever design keyboard home end key  work cli use key often\n",
      "mine gone  recov save b4 upgrad iphon  soooo piss \n",
      "hey wan na fix fuck playlist order  piec shit\n",
      "siri hard time rememb sister  contact card need space famili info \n",
      "get sloppi  u need check qa team  mani issu app  data sync\n",
      "rt  sm full messag known issu new ios5 updat  tri restor  els  restor \n",
      "glad paid  69 care protect plan  hold minut  great custom servic \n",
      "happi right  upgrad itouch4 took itouch laptop \n",
      "say right see  cancer nt bad \n",
      "look problem ipad wo nt open messag  crash app  mayb fault \n",
      "point icloud wireless updat ios5 forc use comput charg ipod touch \n",
      "worri bud  ps  say lot network issu right   mac problem \n",
      "hate send toledo  oh even pre order   \n",
      "nonappl equip broke often  guess need asu geniu bar  nt  nt\n",
      "new iphon os duplic ical event  everyth  fix   tri turn icloud \n",
      "dear  convenienthandythoughtfulsmart iphon updat app wo nt work anymor   none      mbl  \n",
      "hey  know steve job die  twitter ipad app keep crash  fix   pleas  lol flight\n",
      "happi appl today  suggest softwar updat noth work   \n",
      "smash yet anoth screen  gon na make phone durabl    tire fix   \n",
      "ios5 one problem  save someon contact nt show nam becuz region 965\n",
      "sure hell better abl restor calendar event  terribl bug appl \n",
      "realli hate wo nt let hide newsstand app move folder  serv purpos \n",
      "life much easier fruit \n",
      "locat remind ipad2  point updat io\n",
      "compar  see lead crowd  agre \n",
      "turn comput nt fix meant  fuck  go back geniu bar complain \n",
      "nt fix ios5 week  buy droid\n",
      "pl launch iphone4  disappoint spend hour upgrad ios5 \n",
      "suck fuck iphon better glad like caus servic fuck terribl\n",
      "first time unhappi product  disappoint  internet seem confus right \n",
      "week consid go back  featur  plu  stabl  though \n",
      "issu reach network today  mani use signal \n",
      "new ios5 complet fail upgrad phone  stuck restor loop  thank wast day  undo \n",
      "run littl warm sometim \n",
      "wtf add newsstand folder   alreadi wall garden  pleas nt remind us \n",
      "see none microsoft offic program work anymor lion upgrad   \n",
      "dear  nt want newsstand icon screen \n",
      "take better qualiti photo iphon though  give \n",
      "ok idk wth sync phone album art order  wtf \n",
      "wish siri could tweet  fix \n",
      "still wait deliv phone\n",
      "never purchas anoth product rest life  glad steve job fuck dead  may fuck rot hell     \n",
      "thank new imac brick  reinstal lion purchas instal former owner \n",
      "ask  babi lisa   told  sorri  troubl connect network right   server fail \n",
      "thing 5 done delet tiger wood game made imposs retriev  thank \n",
      "damn break wififofum  continu work io  one use app  damn appl overbear polici \n",
      "yo   updat disast\n",
      "dear  congratul  su insur compani manag make top shit list \n",
      "dear  must let turn icloud save bandwidth delet everi document ipad  bullshit \n",
      "rt  dear   thank beauti new io featur  miss old one  lk make call  text  gt\n",
      "far worst experi upgrad version io\n",
      "happen  rt  never purchas anoth item \n",
      "never purchas anoth item \n",
      "rt  wow  worst custom servic experi ever  arrog inept  bad combo  biltmor appl store \n",
      "wow  worst custom servic experi ever  arrog inept  bad combo  biltmor appl store \n",
      "hey guy  wtf happen  suddenli fade black begin vibrat continu  reboot\n",
      " nt play nice let use hdmi ipad  pretti lame \n",
      "warn  iphon app spontan loos data  might app fault \n",
      "rt  dear   thank beauti new io featur  miss old one  like make call  \n",
      "first imag photo roll made  serious   fuck much \n",
      "plu equal half batteri life \n",
      "nt itun updat  wan na updat iphon ios5    itun say need updat  fail \n",
      "wo nt let use credit unless credit card  told redeem card  sound fair \n",
      "siri work less  time  servic nt improv monday  return iphon \n",
      " rt   issu sync  access mail  good premis   \n",
      "need help   instal new io stuck find iphon screen keep click next nt work\n",
      "bummer sync window w outlook  thunderbird   ie  firefox  chrome  \n",
      "heard test deploy updat  differ microsoft  appl  none\n",
      "disappoint visual merchandis   simpl  lack eleg  sequenc nt even tell us \n",
      "termin hold support  must person troubl new iphon synch \n",
      "thank appl io lose contact \n",
      "give app back   \n",
      "nonstop drop call  mute button randomli activ  person cant hear  pull phone ear  mobil  screen\n",
      "rt  nt occur ppl share itun account amongst famili      wtf    \n",
      "\n",
      "minut  iphon  post upgrad  lost  charg store folk idea \n",
      " cut cord  make podcast even harder manag    subscript  wth    via \n",
      "rememb peopl use say  flat fuck    lol  face say  kindahow feel\n",
      "less hour post iphon gone   batteri charg store folk solut\n",
      "well seem b screw resellar  still dont yet promis  similar bell monopolist prctice \n",
      "also  nt forget stop close app store bloodi purchas \n",
      " sigh  store seem stump catastroph bad batteri life upgrad\n",
      "hmmmm lot featur nt work canada  locat direct  serious come \n",
      " ca nt connect network  less use voicecontrol \n",
      "took siri made exclus iphon\n",
      "total time phone  hour minut  let see goe \n",
      "wait line noth  fuck geniu call app  john   jean  stop fuck name im french boy  \n",
      "dear  one day go releas version itun nt freez often work  one day \n",
      "hr sinc report theft iphon done noth  return call promis  noth \n",
      "bode well  charg night  iphon  batteri hr charger call  light use\n",
      "houston problem   ipad restor  hour instal ios5  ca nt right \n",
      "went littl last night  come  get shit togeth launch \n",
      "team instead make sync system new focu  car sweet sync\n",
      "instal io5  fine ipad wipe wife iphon restor backup fail \n",
      "rt  realli  done itun  ca nt click music  movi  tv show  playlist  get l \n",
      "damn   \n",
      "mani servic work user   profil \n",
      "start doubt android polici  releas android sourc sinc  curiou opensourc project say least \n",
      "youtub video view still updat properli \n",
      "realli highlight new font part announc    serious \n",
      "rt  got wrong\n",
      " realli confus \n",
      "mull  hmmm  aint shore bout nuther social media profil \n",
      "athen review doc show lot work need done  ht\n",
      "gon na dump one gmail account  get ton spam get ton fals posit  cool \n",
      "awkward moment googl take hell lot time load\n",
      "servic blackout threaten cloud user  day period august septemb  \n",
      "googl uphil battl vs facebook  sean parker\n",
      "rt  chan chri pool   wrong  via\n",
      "lectur note financi econom pdf ebook \n",
      "hate tron theme\n",
      " realli hypocrit \n",
      "codenam  awesom  hard time take anyth call ice cream sandwich  serious \n",
      "rt  letdown samsung galaxi nexu phone mp camera \n",
      "introduc new android tablet call ice cream sandwich      confus \n",
      "introduc facial recognit unlock phone  howev  demo nt go plan  goof \n",
      "ice cream sandwich  realli \n",
      "terribl present  hate terribl camera interfer huge screen behind speaker \n",
      "watch announc  thing keep buy  \n",
      "tri word appar nt know either caus phone froze \n",
      "rt  dear   learn present first  pleas \n",
      "letdown samsung galaxi nexu phone mp camera \n",
      " block global ip network site  jk  stop evil \n",
      "boo googlemus news  us carrier news  price point \n",
      "laughabl file  result u  log  maxim \n",
      "\n",
      "1 rt  dear   learn present first  pleas \n",
      "dear   learn present first  pleas \n",
      "1 rt  background horribl stream seen\n",
      "heck sourc code   wtf\n",
      "greatli impress present skill \n"
     ]
    }
   ],
   "source": [
    "for tweet in train['tweets']:\n",
    "  cleaned = preprocessing(tweet)\n",
    "  print(cleaned)\n"
   ]
  },
  {
   "cell_type": "code",
   "execution_count": null,
   "metadata": {
    "id": "TQHjRKyNCoaR"
   },
   "outputs": [],
   "source": []
  },
  {
   "cell_type": "markdown",
   "metadata": {
    "id": "CHtp21NWDWKG"
   },
   "source": [
    "MODEL TRAINING"
   ]
  },
  {
   "cell_type": "code",
   "execution_count": 26,
   "metadata": {
    "id": "WB9I6vA0DYJ8"
   },
   "outputs": [],
   "source": [
    "X_train, X_test = train['tweets'].tolist(), test['tweets'].tolist()\n",
    "y_train, y_test = train['labels'].tolist(), test['labels'].tolist()\n"
   ]
  },
  {
   "cell_type": "code",
   "execution_count": 27,
   "metadata": {
    "id": "7AffB6H6DZoH"
   },
   "outputs": [],
   "source": [
    "X_train = [preprocessing(x) for x in X_train ]"
   ]
  },
  {
   "cell_type": "code",
   "execution_count": 28,
   "metadata": {
    "id": "pW8EzhY3DbmQ"
   },
   "outputs": [],
   "source": [
    "X_test = [preprocessing(x) for x in X_test ]"
   ]
  },
  {
   "cell_type": "code",
   "execution_count": 29,
   "metadata": {
    "id": "oAelUdkEDdkl"
   },
   "outputs": [],
   "source": [
    "from sklearn.feature_extraction.text import CountVectorizer\n",
    "\n",
    "vectorizer = CountVectorizer()"
   ]
  },
  {
   "cell_type": "code",
   "execution_count": 30,
   "metadata": {
    "id": "CsFNlqNGEjTc"
   },
   "outputs": [],
   "source": [
    "X_train_data = vectorizer.fit_transform(X_train)\n",
    "X_test_data = vectorizer.transform(X_test)\n"
   ]
  },
  {
   "cell_type": "code",
   "execution_count": 31,
   "metadata": {
    "id": "ES5Z71ChEwKX"
   },
   "outputs": [],
   "source": [
    "from sklearn.naive_bayes import MultinomialNB\n",
    "\n",
    "#define an instance\n",
    "classifier = MultinomialNB()\n",
    "\n",
    "#train a model on train data\n",
    "classifier.fit(X_train_data, y_train)\n",
    "\n",
    "#make a prediction on test set\n",
    "predict = classifier.predict(X_test_data)"
   ]
  },
  {
   "cell_type": "code",
   "execution_count": 32,
   "metadata": {
    "colab": {
     "base_uri": "https://localhost:8080/"
    },
    "id": "XtCIf1ItEzfM",
    "outputId": "ae637cce-b2ac-49f8-cdb3-9678d4163520"
   },
   "outputs": [
    {
     "name": "stdout",
     "output_type": "stream",
     "text": [
      "Predict 10 samples: ['neg' 'pos' 'pos' 'pos' 'pos' 'pos' 'pos' 'pos' 'pos' 'pos']\n",
      "truth of 10 samples: ['pos', 'pos', 'pos', 'pos', 'pos', 'pos', 'pos', 'pos', 'pos', 'pos']\n"
     ]
    }
   ],
   "source": [
    "print(\"Predict 10 samples:\", predict[:10])\n",
    "print(\"truth of 10 samples:\", y_test[:10])"
   ]
  },
  {
   "cell_type": "code",
   "execution_count": 33,
   "metadata": {
    "colab": {
     "base_uri": "https://localhost:8080/"
    },
    "id": "HSARmJGgE3iK",
    "outputId": "7c7ec4b7-a96c-47c5-958c-cd9bcc062f72"
   },
   "outputs": [
    {
     "name": "stdout",
     "output_type": "stream",
     "text": [
      "Accuracy: 0.7133333333333334\n",
      "              precision    recall  f1-score   support\n",
      "\n",
      "         neg       0.75      0.70      0.72       160\n",
      "         pos       0.68      0.73      0.70       140\n",
      "\n",
      "    accuracy                           0.71       300\n",
      "   macro avg       0.71      0.71      0.71       300\n",
      "weighted avg       0.72      0.71      0.71       300\n",
      "\n"
     ]
    }
   ],
   "source": [
    "from sklearn.metrics import accuracy_score, classification_report, confusion_matrix\n",
    "\n",
    "#accuracy of the model\n",
    "print(\"Accuracy:\", accuracy_score(predict, y_test))\n",
    "\n",
    "#evaluation report\n",
    "print(classification_report(predict, y_test))"
   ]
  },
  {
   "cell_type": "code",
   "execution_count": 34,
   "metadata": {
    "colab": {
     "base_uri": "https://localhost:8080/"
    },
    "id": "4_62deNxFKKg",
    "outputId": "9d56ffd4-5a54-49cc-c4f6-ee3d713db6ec"
   },
   "outputs": [
    {
     "name": "stdout",
     "output_type": "stream",
     "text": [
      "Mean 5-Fold CrossValidation:0.7699999999999999 (+/- 0.04150239727523984)\n"
     ]
    }
   ],
   "source": [
    "from sklearn.model_selection import cross_val_score\n",
    "\n",
    "estimator = MultinomialNB()\n",
    "\n",
    "scores = cross_val_score(estimator, X_train_data, y_train, cv=5)\n",
    "\n",
    "print(\"Mean 5-Fold CrossValidation:{} (+/- {})\".format(scores.mean(), scores.std()))"
   ]
  },
  {
   "cell_type": "code",
   "execution_count": 35,
   "metadata": {
    "id": "IAB-AQiBFcxm"
   },
   "outputs": [],
   "source": [
    "from sklearn.naive_bayes import BernoulliNB"
   ]
  },
  {
   "cell_type": "code",
   "execution_count": 36,
   "metadata": {
    "id": "aGjwESE2GvB7"
   },
   "outputs": [],
   "source": [
    "BNB = BernoulliNB()"
   ]
  },
  {
   "cell_type": "code",
   "execution_count": 37,
   "metadata": {
    "colab": {
     "base_uri": "https://localhost:8080/",
     "height": 75
    },
    "id": "v6zfmTY3G0Bz",
    "outputId": "4796ae35-52d2-4ce0-ff1b-db10b536fb77"
   },
   "outputs": [
    {
     "data": {
      "text/html": [
       "<style>#sk-container-id-1 {color: black;background-color: white;}#sk-container-id-1 pre{padding: 0;}#sk-container-id-1 div.sk-toggleable {background-color: white;}#sk-container-id-1 label.sk-toggleable__label {cursor: pointer;display: block;width: 100%;margin-bottom: 0;padding: 0.3em;box-sizing: border-box;text-align: center;}#sk-container-id-1 label.sk-toggleable__label-arrow:before {content: \"▸\";float: left;margin-right: 0.25em;color: #696969;}#sk-container-id-1 label.sk-toggleable__label-arrow:hover:before {color: black;}#sk-container-id-1 div.sk-estimator:hover label.sk-toggleable__label-arrow:before {color: black;}#sk-container-id-1 div.sk-toggleable__content {max-height: 0;max-width: 0;overflow: hidden;text-align: left;background-color: #f0f8ff;}#sk-container-id-1 div.sk-toggleable__content pre {margin: 0.2em;color: black;border-radius: 0.25em;background-color: #f0f8ff;}#sk-container-id-1 input.sk-toggleable__control:checked~div.sk-toggleable__content {max-height: 200px;max-width: 100%;overflow: auto;}#sk-container-id-1 input.sk-toggleable__control:checked~label.sk-toggleable__label-arrow:before {content: \"▾\";}#sk-container-id-1 div.sk-estimator input.sk-toggleable__control:checked~label.sk-toggleable__label {background-color: #d4ebff;}#sk-container-id-1 div.sk-label input.sk-toggleable__control:checked~label.sk-toggleable__label {background-color: #d4ebff;}#sk-container-id-1 input.sk-hidden--visually {border: 0;clip: rect(1px 1px 1px 1px);clip: rect(1px, 1px, 1px, 1px);height: 1px;margin: -1px;overflow: hidden;padding: 0;position: absolute;width: 1px;}#sk-container-id-1 div.sk-estimator {font-family: monospace;background-color: #f0f8ff;border: 1px dotted black;border-radius: 0.25em;box-sizing: border-box;margin-bottom: 0.5em;}#sk-container-id-1 div.sk-estimator:hover {background-color: #d4ebff;}#sk-container-id-1 div.sk-parallel-item::after {content: \"\";width: 100%;border-bottom: 1px solid gray;flex-grow: 1;}#sk-container-id-1 div.sk-label:hover label.sk-toggleable__label {background-color: #d4ebff;}#sk-container-id-1 div.sk-serial::before {content: \"\";position: absolute;border-left: 1px solid gray;box-sizing: border-box;top: 0;bottom: 0;left: 50%;z-index: 0;}#sk-container-id-1 div.sk-serial {display: flex;flex-direction: column;align-items: center;background-color: white;padding-right: 0.2em;padding-left: 0.2em;position: relative;}#sk-container-id-1 div.sk-item {position: relative;z-index: 1;}#sk-container-id-1 div.sk-parallel {display: flex;align-items: stretch;justify-content: center;background-color: white;position: relative;}#sk-container-id-1 div.sk-item::before, #sk-container-id-1 div.sk-parallel-item::before {content: \"\";position: absolute;border-left: 1px solid gray;box-sizing: border-box;top: 0;bottom: 0;left: 50%;z-index: -1;}#sk-container-id-1 div.sk-parallel-item {display: flex;flex-direction: column;z-index: 1;position: relative;background-color: white;}#sk-container-id-1 div.sk-parallel-item:first-child::after {align-self: flex-end;width: 50%;}#sk-container-id-1 div.sk-parallel-item:last-child::after {align-self: flex-start;width: 50%;}#sk-container-id-1 div.sk-parallel-item:only-child::after {width: 0;}#sk-container-id-1 div.sk-dashed-wrapped {border: 1px dashed gray;margin: 0 0.4em 0.5em 0.4em;box-sizing: border-box;padding-bottom: 0.4em;background-color: white;}#sk-container-id-1 div.sk-label label {font-family: monospace;font-weight: bold;display: inline-block;line-height: 1.2em;}#sk-container-id-1 div.sk-label-container {text-align: center;}#sk-container-id-1 div.sk-container {/* jupyter's `normalize.less` sets `[hidden] { display: none; }` but bootstrap.min.css set `[hidden] { display: none !important; }` so we also need the `!important` here to be able to override the default hidden behavior on the sphinx rendered scikit-learn.org. See: https://github.com/scikit-learn/scikit-learn/issues/21755 */display: inline-block !important;position: relative;}#sk-container-id-1 div.sk-text-repr-fallback {display: none;}</style><div id=\"sk-container-id-1\" class=\"sk-top-container\"><div class=\"sk-text-repr-fallback\"><pre>BernoulliNB()</pre><b>In a Jupyter environment, please rerun this cell to show the HTML representation or trust the notebook. <br />On GitHub, the HTML representation is unable to render, please try loading this page with nbviewer.org.</b></div><div class=\"sk-container\" hidden><div class=\"sk-item\"><div class=\"sk-estimator sk-toggleable\"><input class=\"sk-toggleable__control sk-hidden--visually\" id=\"sk-estimator-id-1\" type=\"checkbox\" checked><label for=\"sk-estimator-id-1\" class=\"sk-toggleable__label sk-toggleable__label-arrow\">BernoulliNB</label><div class=\"sk-toggleable__content\"><pre>BernoulliNB()</pre></div></div></div></div></div>"
      ],
      "text/plain": [
       "BernoulliNB()"
      ]
     },
     "execution_count": 37,
     "metadata": {},
     "output_type": "execute_result"
    }
   ],
   "source": [
    "BNB.fit(X_train_data, y_train)"
   ]
  },
  {
   "cell_type": "code",
   "execution_count": 39,
   "metadata": {
    "id": "XWeuttqtG9qF"
   },
   "outputs": [],
   "source": [
    "predictions = BNB.predict(X_test_data)"
   ]
  },
  {
   "cell_type": "code",
   "execution_count": 40,
   "metadata": {
    "colab": {
     "base_uri": "https://localhost:8080/"
    },
    "id": "UzJnTqc_HKeY",
    "outputId": "d1c770c8-acbb-42bc-8a83-08ca0c18adb7"
   },
   "outputs": [
    {
     "name": "stdout",
     "output_type": "stream",
     "text": [
      "Accuracy: 0.7133333333333334\n",
      "              precision    recall  f1-score   support\n",
      "\n",
      "         neg       0.75      0.70      0.72       160\n",
      "         pos       0.68      0.73      0.70       140\n",
      "\n",
      "    accuracy                           0.71       300\n",
      "   macro avg       0.71      0.71      0.71       300\n",
      "weighted avg       0.72      0.71      0.71       300\n",
      "\n"
     ]
    }
   ],
   "source": [
    "from sklearn.metrics import accuracy_score, classification_report, confusion_matrix\n",
    "\n",
    "#accuracy of the model\n",
    "print(\"Accuracy:\", accuracy_score(predict, y_test))\n",
    "\n",
    "#evaluation report\n",
    "print(classification_report(predict, y_test))"
   ]
  },
  {
   "cell_type": "code",
   "execution_count": null,
   "metadata": {
    "id": "AHm90lzmHbGO"
   },
   "outputs": [],
   "source": []
  }
 ],
 "metadata": {
  "colab": {
   "provenance": []
  },
  "kernelspec": {
   "display_name": "Python 3 (ipykernel)",
   "language": "python",
   "name": "python3"
  },
  "language_info": {
   "codemirror_mode": {
    "name": "ipython",
    "version": 3
   },
   "file_extension": ".py",
   "mimetype": "text/x-python",
   "name": "python",
   "nbconvert_exporter": "python",
   "pygments_lexer": "ipython3",
   "version": "3.11.1"
  }
 },
 "nbformat": 4,
 "nbformat_minor": 1
}
